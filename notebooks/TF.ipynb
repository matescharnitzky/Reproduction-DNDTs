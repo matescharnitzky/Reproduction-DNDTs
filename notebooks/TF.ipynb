{
  "nbformat": 4,
  "nbformat_minor": 0,
  "metadata": {
    "colab": {
      "name": "TF_Housing_Price_Prediction.ipynb",
      "provenance": []
    },
    "kernelspec": {
      "name": "python3",
      "display_name": "Python 3"
    }
  },
  "cells": [
    {
      "cell_type": "markdown",
      "metadata": {
        "id": "XtbHxfPUxsny",
        "colab_type": "text"
      },
      "source": [
        "**Environment Setup**"
      ]
    },
    {
      "cell_type": "code",
      "metadata": {
        "id": "XZdnF6A9ncJi",
        "colab_type": "code",
        "outputId": "7813f38b-d9f6-4fd4-9ff2-f7d8c56a6716",
        "colab": {
          "base_uri": "https://localhost:8080/",
          "height": 34
        }
      },
      "source": [
        "# Import packages\n",
        "\n",
        "import pathlib\n",
        "import io\n",
        "\n",
        "import matplotlib.pyplot as plt\n",
        "import numpy as np\n",
        "import pandas as pd\n",
        "import seaborn as sns\n",
        "\n",
        "import tensorflow as tf\n",
        "\n",
        "from tensorflow import keras\n",
        "from tensorflow.keras import layers\n",
        "\n",
        "print(tf.__version__)"
      ],
      "execution_count": 0,
      "outputs": [
        {
          "output_type": "stream",
          "text": [
            "2.2.0-rc3\n"
          ],
          "name": "stdout"
        }
      ]
    },
    {
      "cell_type": "code",
      "metadata": {
        "id": "F2TqS1Dno475",
        "colab_type": "code",
        "outputId": "1162ea31-e410-41c8-f4ea-e32a60491b7c",
        "colab": {
          "base_uri": "https://localhost:8080/",
          "height": 289
        }
      },
      "source": [
        "# Install Tensorlow Docs\n",
        "\n",
        "!pip install git+https://github.com/tensorflow/docs"
      ],
      "execution_count": 0,
      "outputs": [
        {
          "output_type": "stream",
          "text": [
            "Collecting git+https://github.com/tensorflow/docs\n",
            "  Cloning https://github.com/tensorflow/docs to /tmp/pip-req-build-4x5cs0bx\n",
            "  Running command git clone -q https://github.com/tensorflow/docs /tmp/pip-req-build-4x5cs0bx\n",
            "Requirement already satisfied: astor in /usr/local/lib/python3.6/dist-packages (from tensorflow-docs==0.0.0) (0.8.1)\n",
            "Requirement already satisfied: absl-py in /usr/local/lib/python3.6/dist-packages (from tensorflow-docs==0.0.0) (0.9.0)\n",
            "Requirement already satisfied: six in /usr/local/lib/python3.6/dist-packages (from tensorflow-docs==0.0.0) (1.12.0)\n",
            "Collecting pathlib2\n",
            "  Downloading https://files.pythonhosted.org/packages/e9/45/9c82d3666af4ef9f221cbb954e1d77ddbb513faf552aea6df5f37f1a4859/pathlib2-2.3.5-py2.py3-none-any.whl\n",
            "Requirement already satisfied: pyyaml in /usr/local/lib/python3.6/dist-packages (from tensorflow-docs==0.0.0) (3.13)\n",
            "Building wheels for collected packages: tensorflow-docs\n",
            "  Building wheel for tensorflow-docs (setup.py) ... \u001b[?25l\u001b[?25hdone\n",
            "  Created wheel for tensorflow-docs: filename=tensorflow_docs-0.0.0-cp36-none-any.whl size=82437 sha256=f49c1862a45af8f78b183afd9d87ecced90e560cc5573c8c0043f674791e5be7\n",
            "  Stored in directory: /tmp/pip-ephem-wheel-cache-3rxpvb35/wheels/eb/1b/35/fce87697be00d2fc63e0b4b395b0d9c7e391a10e98d9a0d97f\n",
            "Successfully built tensorflow-docs\n",
            "Installing collected packages: pathlib2, tensorflow-docs\n",
            "Successfully installed pathlib2-2.3.5 tensorflow-docs-0.0.0\n"
          ],
          "name": "stdout"
        }
      ]
    },
    {
      "cell_type": "code",
      "metadata": {
        "id": "LTleiVcEoz-N",
        "colab_type": "code",
        "colab": {}
      },
      "source": [
        "# Import Tensorflow Docs\n",
        "\n",
        "import tensorflow_docs as tfdocs\n",
        "import tensorflow_docs.plots\n",
        "import tensorflow_docs.modeling"
      ],
      "execution_count": 0,
      "outputs": []
    },
    {
      "cell_type": "markdown",
      "metadata": {
        "id": "JWvlW19X3TSn",
        "colab_type": "text"
      },
      "source": [
        "**Functions**"
      ]
    },
    {
      "cell_type": "code",
      "metadata": {
        "id": "Pes0ufa93R-o",
        "colab_type": "code",
        "colab": {}
      },
      "source": [
        "# Function: Normalize\n",
        "\n",
        "def norm(x):\n",
        "  return (x - train_stats['mean']) / train_stats['std']"
      ],
      "execution_count": 0,
      "outputs": []
    },
    {
      "cell_type": "markdown",
      "metadata": {
        "id": "c1rSHn35x4yZ",
        "colab_type": "text"
      },
      "source": [
        "**Read Data**"
      ]
    },
    {
      "cell_type": "code",
      "metadata": {
        "id": "sIMyc-SspWE3",
        "colab_type": "code",
        "outputId": "1716cc09-c39e-4bbb-dbad-946ac5946b3d",
        "colab": {
          "resources": {
            "http://localhost:8080/nbextensions/google.colab/files.js": {
              "data": "Ly8gQ29weXJpZ2h0IDIwMTcgR29vZ2xlIExMQwovLwovLyBMaWNlbnNlZCB1bmRlciB0aGUgQXBhY2hlIExpY2Vuc2UsIFZlcnNpb24gMi4wICh0aGUgIkxpY2Vuc2UiKTsKLy8geW91IG1heSBub3QgdXNlIHRoaXMgZmlsZSBleGNlcHQgaW4gY29tcGxpYW5jZSB3aXRoIHRoZSBMaWNlbnNlLgovLyBZb3UgbWF5IG9idGFpbiBhIGNvcHkgb2YgdGhlIExpY2Vuc2UgYXQKLy8KLy8gICAgICBodHRwOi8vd3d3LmFwYWNoZS5vcmcvbGljZW5zZXMvTElDRU5TRS0yLjAKLy8KLy8gVW5sZXNzIHJlcXVpcmVkIGJ5IGFwcGxpY2FibGUgbGF3IG9yIGFncmVlZCB0byBpbiB3cml0aW5nLCBzb2Z0d2FyZQovLyBkaXN0cmlidXRlZCB1bmRlciB0aGUgTGljZW5zZSBpcyBkaXN0cmlidXRlZCBvbiBhbiAiQVMgSVMiIEJBU0lTLAovLyBXSVRIT1VUIFdBUlJBTlRJRVMgT1IgQ09ORElUSU9OUyBPRiBBTlkgS0lORCwgZWl0aGVyIGV4cHJlc3Mgb3IgaW1wbGllZC4KLy8gU2VlIHRoZSBMaWNlbnNlIGZvciB0aGUgc3BlY2lmaWMgbGFuZ3VhZ2UgZ292ZXJuaW5nIHBlcm1pc3Npb25zIGFuZAovLyBsaW1pdGF0aW9ucyB1bmRlciB0aGUgTGljZW5zZS4KCi8qKgogKiBAZmlsZW92ZXJ2aWV3IEhlbHBlcnMgZm9yIGdvb2dsZS5jb2xhYiBQeXRob24gbW9kdWxlLgogKi8KKGZ1bmN0aW9uKHNjb3BlKSB7CmZ1bmN0aW9uIHNwYW4odGV4dCwgc3R5bGVBdHRyaWJ1dGVzID0ge30pIHsKICBjb25zdCBlbGVtZW50ID0gZG9jdW1lbnQuY3JlYXRlRWxlbWVudCgnc3BhbicpOwogIGVsZW1lbnQudGV4dENvbnRlbnQgPSB0ZXh0OwogIGZvciAoY29uc3Qga2V5IG9mIE9iamVjdC5rZXlzKHN0eWxlQXR0cmlidXRlcykpIHsKICAgIGVsZW1lbnQuc3R5bGVba2V5XSA9IHN0eWxlQXR0cmlidXRlc1trZXldOwogIH0KICByZXR1cm4gZWxlbWVudDsKfQoKLy8gTWF4IG51bWJlciBvZiBieXRlcyB3aGljaCB3aWxsIGJlIHVwbG9hZGVkIGF0IGEgdGltZS4KY29uc3QgTUFYX1BBWUxPQURfU0laRSA9IDEwMCAqIDEwMjQ7Ci8vIE1heCBhbW91bnQgb2YgdGltZSB0byBibG9jayB3YWl0aW5nIGZvciB0aGUgdXNlci4KY29uc3QgRklMRV9DSEFOR0VfVElNRU9VVF9NUyA9IDMwICogMTAwMDsKCmZ1bmN0aW9uIF91cGxvYWRGaWxlcyhpbnB1dElkLCBvdXRwdXRJZCkgewogIGNvbnN0IHN0ZXBzID0gdXBsb2FkRmlsZXNTdGVwKGlucHV0SWQsIG91dHB1dElkKTsKICBjb25zdCBvdXRwdXRFbGVtZW50ID0gZG9jdW1lbnQuZ2V0RWxlbWVudEJ5SWQob3V0cHV0SWQpOwogIC8vIENhY2hlIHN0ZXBzIG9uIHRoZSBvdXRwdXRFbGVtZW50IHRvIG1ha2UgaXQgYXZhaWxhYmxlIGZvciB0aGUgbmV4dCBjYWxsCiAgLy8gdG8gdXBsb2FkRmlsZXNDb250aW51ZSBmcm9tIFB5dGhvbi4KICBvdXRwdXRFbGVtZW50LnN0ZXBzID0gc3RlcHM7CgogIHJldHVybiBfdXBsb2FkRmlsZXNDb250aW51ZShvdXRwdXRJZCk7Cn0KCi8vIFRoaXMgaXMgcm91Z2hseSBhbiBhc3luYyBnZW5lcmF0b3IgKG5vdCBzdXBwb3J0ZWQgaW4gdGhlIGJyb3dzZXIgeWV0KSwKLy8gd2hlcmUgdGhlcmUgYXJlIG11bHRpcGxlIGFzeW5jaHJvbm91cyBzdGVwcyBhbmQgdGhlIFB5dGhvbiBzaWRlIGlzIGdvaW5nCi8vIHRvIHBvbGwgZm9yIGNvbXBsZXRpb24gb2YgZWFjaCBzdGVwLgovLyBUaGlzIHVzZXMgYSBQcm9taXNlIHRvIGJsb2NrIHRoZSBweXRob24gc2lkZSBvbiBjb21wbGV0aW9uIG9mIGVhY2ggc3RlcCwKLy8gdGhlbiBwYXNzZXMgdGhlIHJlc3VsdCBvZiB0aGUgcHJldmlvdXMgc3RlcCBhcyB0aGUgaW5wdXQgdG8gdGhlIG5leHQgc3RlcC4KZnVuY3Rpb24gX3VwbG9hZEZpbGVzQ29udGludWUob3V0cHV0SWQpIHsKICBjb25zdCBvdXRwdXRFbGVtZW50ID0gZG9jdW1lbnQuZ2V0RWxlbWVudEJ5SWQob3V0cHV0SWQpOwogIGNvbnN0IHN0ZXBzID0gb3V0cHV0RWxlbWVudC5zdGVwczsKCiAgY29uc3QgbmV4dCA9IHN0ZXBzLm5leHQob3V0cHV0RWxlbWVudC5sYXN0UHJvbWlzZVZhbHVlKTsKICByZXR1cm4gUHJvbWlzZS5yZXNvbHZlKG5leHQudmFsdWUucHJvbWlzZSkudGhlbigodmFsdWUpID0+IHsKICAgIC8vIENhY2hlIHRoZSBsYXN0IHByb21pc2UgdmFsdWUgdG8gbWFrZSBpdCBhdmFpbGFibGUgdG8gdGhlIG5leHQKICAgIC8vIHN0ZXAgb2YgdGhlIGdlbmVyYXRvci4KICAgIG91dHB1dEVsZW1lbnQubGFzdFByb21pc2VWYWx1ZSA9IHZhbHVlOwogICAgcmV0dXJuIG5leHQudmFsdWUucmVzcG9uc2U7CiAgfSk7Cn0KCi8qKgogKiBHZW5lcmF0b3IgZnVuY3Rpb24gd2hpY2ggaXMgY2FsbGVkIGJldHdlZW4gZWFjaCBhc3luYyBzdGVwIG9mIHRoZSB1cGxvYWQKICogcHJvY2Vzcy4KICogQHBhcmFtIHtzdHJpbmd9IGlucHV0SWQgRWxlbWVudCBJRCBvZiB0aGUgaW5wdXQgZmlsZSBwaWNrZXIgZWxlbWVudC4KICogQHBhcmFtIHtzdHJpbmd9IG91dHB1dElkIEVsZW1lbnQgSUQgb2YgdGhlIG91dHB1dCBkaXNwbGF5LgogKiBAcmV0dXJuIHshSXRlcmFibGU8IU9iamVjdD59IEl0ZXJhYmxlIG9mIG5leHQgc3RlcHMuCiAqLwpmdW5jdGlvbiogdXBsb2FkRmlsZXNTdGVwKGlucHV0SWQsIG91dHB1dElkKSB7CiAgY29uc3QgaW5wdXRFbGVtZW50ID0gZG9jdW1lbnQuZ2V0RWxlbWVudEJ5SWQoaW5wdXRJZCk7CiAgaW5wdXRFbGVtZW50LmRpc2FibGVkID0gZmFsc2U7CgogIGNvbnN0IG91dHB1dEVsZW1lbnQgPSBkb2N1bWVudC5nZXRFbGVtZW50QnlJZChvdXRwdXRJZCk7CiAgb3V0cHV0RWxlbWVudC5pbm5lckhUTUwgPSAnJzsKCiAgY29uc3QgcGlja2VkUHJvbWlzZSA9IG5ldyBQcm9taXNlKChyZXNvbHZlKSA9PiB7CiAgICBpbnB1dEVsZW1lbnQuYWRkRXZlbnRMaXN0ZW5lcignY2hhbmdlJywgKGUpID0+IHsKICAgICAgcmVzb2x2ZShlLnRhcmdldC5maWxlcyk7CiAgICB9KTsKICB9KTsKCiAgY29uc3QgY2FuY2VsID0gZG9jdW1lbnQuY3JlYXRlRWxlbWVudCgnYnV0dG9uJyk7CiAgaW5wdXRFbGVtZW50LnBhcmVudEVsZW1lbnQuYXBwZW5kQ2hpbGQoY2FuY2VsKTsKICBjYW5jZWwudGV4dENvbnRlbnQgPSAnQ2FuY2VsIHVwbG9hZCc7CiAgY29uc3QgY2FuY2VsUHJvbWlzZSA9IG5ldyBQcm9taXNlKChyZXNvbHZlKSA9PiB7CiAgICBjYW5jZWwub25jbGljayA9ICgpID0+IHsKICAgICAgcmVzb2x2ZShudWxsKTsKICAgIH07CiAgfSk7CgogIC8vIENhbmNlbCB1cGxvYWQgaWYgdXNlciBoYXNuJ3QgcGlja2VkIGFueXRoaW5nIGluIHRpbWVvdXQuCiAgY29uc3QgdGltZW91dFByb21pc2UgPSBuZXcgUHJvbWlzZSgocmVzb2x2ZSkgPT4gewogICAgc2V0VGltZW91dCgoKSA9PiB7CiAgICAgIHJlc29sdmUobnVsbCk7CiAgICB9LCBGSUxFX0NIQU5HRV9USU1FT1VUX01TKTsKICB9KTsKCiAgLy8gV2FpdCBmb3IgdGhlIHVzZXIgdG8gcGljayB0aGUgZmlsZXMuCiAgY29uc3QgZmlsZXMgPSB5aWVsZCB7CiAgICBwcm9taXNlOiBQcm9taXNlLnJhY2UoW3BpY2tlZFByb21pc2UsIHRpbWVvdXRQcm9taXNlLCBjYW5jZWxQcm9taXNlXSksCiAgICByZXNwb25zZTogewogICAgICBhY3Rpb246ICdzdGFydGluZycsCiAgICB9CiAgfTsKCiAgaWYgKCFmaWxlcykgewogICAgcmV0dXJuIHsKICAgICAgcmVzcG9uc2U6IHsKICAgICAgICBhY3Rpb246ICdjb21wbGV0ZScsCiAgICAgIH0KICAgIH07CiAgfQoKICBjYW5jZWwucmVtb3ZlKCk7CgogIC8vIERpc2FibGUgdGhlIGlucHV0IGVsZW1lbnQgc2luY2UgZnVydGhlciBwaWNrcyBhcmUgbm90IGFsbG93ZWQuCiAgaW5wdXRFbGVtZW50LmRpc2FibGVkID0gdHJ1ZTsKCiAgZm9yIChjb25zdCBmaWxlIG9mIGZpbGVzKSB7CiAgICBjb25zdCBsaSA9IGRvY3VtZW50LmNyZWF0ZUVsZW1lbnQoJ2xpJyk7CiAgICBsaS5hcHBlbmQoc3BhbihmaWxlLm5hbWUsIHtmb250V2VpZ2h0OiAnYm9sZCd9KSk7CiAgICBsaS5hcHBlbmQoc3BhbigKICAgICAgICBgKCR7ZmlsZS50eXBlIHx8ICduL2EnfSkgLSAke2ZpbGUuc2l6ZX0gYnl0ZXMsIGAgKwogICAgICAgIGBsYXN0IG1vZGlmaWVkOiAkewogICAgICAgICAgICBmaWxlLmxhc3RNb2RpZmllZERhdGUgPyBmaWxlLmxhc3RNb2RpZmllZERhdGUudG9Mb2NhbGVEYXRlU3RyaW5nKCkgOgogICAgICAgICAgICAgICAgICAgICAgICAgICAgICAgICAgICAnbi9hJ30gLSBgKSk7CiAgICBjb25zdCBwZXJjZW50ID0gc3BhbignMCUgZG9uZScpOwogICAgbGkuYXBwZW5kQ2hpbGQocGVyY2VudCk7CgogICAgb3V0cHV0RWxlbWVudC5hcHBlbmRDaGlsZChsaSk7CgogICAgY29uc3QgZmlsZURhdGFQcm9taXNlID0gbmV3IFByb21pc2UoKHJlc29sdmUpID0+IHsKICAgICAgY29uc3QgcmVhZGVyID0gbmV3IEZpbGVSZWFkZXIoKTsKICAgICAgcmVhZGVyLm9ubG9hZCA9IChlKSA9PiB7CiAgICAgICAgcmVzb2x2ZShlLnRhcmdldC5yZXN1bHQpOwogICAgICB9OwogICAgICByZWFkZXIucmVhZEFzQXJyYXlCdWZmZXIoZmlsZSk7CiAgICB9KTsKICAgIC8vIFdhaXQgZm9yIHRoZSBkYXRhIHRvIGJlIHJlYWR5LgogICAgbGV0IGZpbGVEYXRhID0geWllbGQgewogICAgICBwcm9taXNlOiBmaWxlRGF0YVByb21pc2UsCiAgICAgIHJlc3BvbnNlOiB7CiAgICAgICAgYWN0aW9uOiAnY29udGludWUnLAogICAgICB9CiAgICB9OwoKICAgIC8vIFVzZSBhIGNodW5rZWQgc2VuZGluZyB0byBhdm9pZCBtZXNzYWdlIHNpemUgbGltaXRzLiBTZWUgYi82MjExNTY2MC4KICAgIGxldCBwb3NpdGlvbiA9IDA7CiAgICB3aGlsZSAocG9zaXRpb24gPCBmaWxlRGF0YS5ieXRlTGVuZ3RoKSB7CiAgICAgIGNvbnN0IGxlbmd0aCA9IE1hdGgubWluKGZpbGVEYXRhLmJ5dGVMZW5ndGggLSBwb3NpdGlvbiwgTUFYX1BBWUxPQURfU0laRSk7CiAgICAgIGNvbnN0IGNodW5rID0gbmV3IFVpbnQ4QXJyYXkoZmlsZURhdGEsIHBvc2l0aW9uLCBsZW5ndGgpOwogICAgICBwb3NpdGlvbiArPSBsZW5ndGg7CgogICAgICBjb25zdCBiYXNlNjQgPSBidG9hKFN0cmluZy5mcm9tQ2hhckNvZGUuYXBwbHkobnVsbCwgY2h1bmspKTsKICAgICAgeWllbGQgewogICAgICAgIHJlc3BvbnNlOiB7CiAgICAgICAgICBhY3Rpb246ICdhcHBlbmQnLAogICAgICAgICAgZmlsZTogZmlsZS5uYW1lLAogICAgICAgICAgZGF0YTogYmFzZTY0LAogICAgICAgIH0sCiAgICAgIH07CiAgICAgIHBlcmNlbnQudGV4dENvbnRlbnQgPQogICAgICAgICAgYCR7TWF0aC5yb3VuZCgocG9zaXRpb24gLyBmaWxlRGF0YS5ieXRlTGVuZ3RoKSAqIDEwMCl9JSBkb25lYDsKICAgIH0KICB9CgogIC8vIEFsbCBkb25lLgogIHlpZWxkIHsKICAgIHJlc3BvbnNlOiB7CiAgICAgIGFjdGlvbjogJ2NvbXBsZXRlJywKICAgIH0KICB9Owp9CgpzY29wZS5nb29nbGUgPSBzY29wZS5nb29nbGUgfHwge307CnNjb3BlLmdvb2dsZS5jb2xhYiA9IHNjb3BlLmdvb2dsZS5jb2xhYiB8fCB7fTsKc2NvcGUuZ29vZ2xlLmNvbGFiLl9maWxlcyA9IHsKICBfdXBsb2FkRmlsZXMsCiAgX3VwbG9hZEZpbGVzQ29udGludWUsCn07Cn0pKHNlbGYpOwo=",
              "ok": true,
              "headers": [
                [
                  "content-type",
                  "application/javascript"
                ]
              ],
              "status": 200,
              "status_text": ""
            }
          },
          "base_uri": "https://localhost:8080/",
          "height": 142
        }
      },
      "source": [
        "# Upload from local drive\n",
        "\n",
        "from google.colab import files\n",
        "uploaded = files.upload()"
      ],
      "execution_count": 0,
      "outputs": [
        {
          "output_type": "display_data",
          "data": {
            "text/html": [
              "\n",
              "     <input type=\"file\" id=\"files-2c3a5ebe-55f8-4c19-a2c0-2a83a43e2ed2\" name=\"files[]\" multiple disabled />\n",
              "     <output id=\"result-2c3a5ebe-55f8-4c19-a2c0-2a83a43e2ed2\">\n",
              "      Upload widget is only available when the cell has been executed in the\n",
              "      current browser session. Please rerun this cell to enable.\n",
              "      </output>\n",
              "      <script src=\"/nbextensions/google.colab/files.js\"></script> "
            ],
            "text/plain": [
              "<IPython.core.display.HTML object>"
            ]
          },
          "metadata": {
            "tags": []
          }
        },
        {
          "output_type": "stream",
          "text": [
            "Saving test_ids.csv to test_ids.csv\n",
            "Saving test_processed_df_20200426.csv to test_processed_df_20200426 (1).csv\n",
            "Saving train_processed_df_20200426.csv to train_processed_df_20200426 (2).csv\n"
          ],
          "name": "stdout"
        }
      ]
    },
    {
      "cell_type": "code",
      "metadata": {
        "id": "Fdi7QYJkx94n",
        "colab_type": "code",
        "outputId": "d4954e5d-b424-4140-dc7d-8fb35b67e6d2",
        "colab": {
          "base_uri": "https://localhost:8080/",
          "height": 355
        }
      },
      "source": [
        "# Read file into a pandas df\n",
        "\n",
        "train_df = pd.read_csv(io.BytesIO(uploaded['train_processed_df_20200426.csv']))\n",
        "train_df.head()\n",
        "\n",
        "test_ids_df = pd.read_csv(io.BytesIO(uploaded['test_ids.csv']))\n",
        "test_ids_df.head()\n",
        "\n",
        "test_df = pd.read_csv(io.BytesIO(uploaded['test_processed_df_20200426.csv']))\n",
        "test_df.head()\n"
      ],
      "execution_count": 0,
      "outputs": [
        {
          "output_type": "execute_result",
          "data": {
            "text/html": [
              "<div>\n",
              "<style scoped>\n",
              "    .dataframe tbody tr th:only-of-type {\n",
              "        vertical-align: middle;\n",
              "    }\n",
              "\n",
              "    .dataframe tbody tr th {\n",
              "        vertical-align: top;\n",
              "    }\n",
              "\n",
              "    .dataframe thead th {\n",
              "        text-align: right;\n",
              "    }\n",
              "</style>\n",
              "<table border=\"1\" class=\"dataframe\">\n",
              "  <thead>\n",
              "    <tr style=\"text-align: right;\">\n",
              "      <th></th>\n",
              "      <th>(Intercept)</th>\n",
              "      <th>mssubclass1-1/2 STORY FINISHED ALL AGES</th>\n",
              "      <th>mssubclass1-1/2 STORY PUD - ALL AGES</th>\n",
              "      <th>mssubclass1-STORY 1945 &amp; OLDER</th>\n",
              "      <th>mssubclass1-STORY 1946 &amp; NEWER ALL STYLES</th>\n",
              "      <th>mssubclass1-STORY PUD (Planned Unit Development) - 1946 &amp; NEWER</th>\n",
              "      <th>mssubclass1-STORY W/FINISHED ATTIC ALL AGES</th>\n",
              "      <th>mssubclass2-1/2 STORY ALL AGES</th>\n",
              "      <th>mssubclass2-STORY 1945 &amp; OLDER</th>\n",
              "      <th>mssubclass2-STORY 1946 &amp; NEWER</th>\n",
              "      <th>mssubclass2-STORY PUD - 1946 &amp; NEWER</th>\n",
              "      <th>mssubclass2 FAMILY CONVERSION - ALL STYLES AND AGES</th>\n",
              "      <th>mssubclassDUPLEX - ALL STYLES AND AGES</th>\n",
              "      <th>mssubclassPUD - MULTILEVEL - INCL SPLIT LEV/FOYER</th>\n",
              "      <th>mssubclassSPLIT FOYER</th>\n",
              "      <th>mssubclassSPLIT OR MULTI-LEVEL</th>\n",
              "      <th>mszoningFloating Village Residential</th>\n",
              "      <th>mszoningNA</th>\n",
              "      <th>mszoningResidential High Density</th>\n",
              "      <th>mszoningResidential Low Density</th>\n",
              "      <th>mszoningResidential Medium Density</th>\n",
              "      <th>streetPaved</th>\n",
              "      <th>alleyNA</th>\n",
              "      <th>alleyPaved</th>\n",
              "      <th>lotshapeModerately Irregular</th>\n",
              "      <th>lotshapeRegular</th>\n",
              "      <th>lotshapeSlightly irregular</th>\n",
              "      <th>landcontourDepression</th>\n",
              "      <th>landcontourHillside - Significant slope from side to side</th>\n",
              "      <th>landcontourNear Flat/Level</th>\n",
              "      <th>utilitiesElectricity and Gas Only</th>\n",
              "      <th>utilitiesNA</th>\n",
              "      <th>lotconfigCul-de-sac</th>\n",
              "      <th>lotconfigFrontage on 2 sides of property</th>\n",
              "      <th>lotconfigFrontage on 3 sides of property</th>\n",
              "      <th>lotconfigInside lot</th>\n",
              "      <th>landslopeModerate Slope</th>\n",
              "      <th>landslopeSevere Slope</th>\n",
              "      <th>neighborhoodBluestem</th>\n",
              "      <th>neighborhoodBriardale</th>\n",
              "      <th>...</th>\n",
              "      <th>saletypeWarranty Deed - Conventional</th>\n",
              "      <th>saleconditionAdjoining Land Purchase</th>\n",
              "      <th>saleconditionAllocation - two linked properties with separate deeds, typically condo with a garage unit</th>\n",
              "      <th>saleconditionHome was not completed when last assessed (associated with New Homes)</th>\n",
              "      <th>saleconditionNormal Sale</th>\n",
              "      <th>saleconditionSale between family members</th>\n",
              "      <th>lotfrontage</th>\n",
              "      <th>lotarea</th>\n",
              "      <th>yearbuilt</th>\n",
              "      <th>yearremodadd</th>\n",
              "      <th>masvnrarea</th>\n",
              "      <th>bsmtfinsf1</th>\n",
              "      <th>bsmtfinsf2</th>\n",
              "      <th>bsmtunfsf</th>\n",
              "      <th>totalbsmtsf</th>\n",
              "      <th>x1stflrsf</th>\n",
              "      <th>x2ndflrsf</th>\n",
              "      <th>lowqualfinsf</th>\n",
              "      <th>grlivarea</th>\n",
              "      <th>bsmtfullbath</th>\n",
              "      <th>bsmthalfbath</th>\n",
              "      <th>fullbath</th>\n",
              "      <th>halfbath</th>\n",
              "      <th>bedroomabvgr</th>\n",
              "      <th>kitchenabvgr</th>\n",
              "      <th>totrmsabvgrd</th>\n",
              "      <th>fireplaces</th>\n",
              "      <th>garageyrblt</th>\n",
              "      <th>garagecars</th>\n",
              "      <th>garagearea</th>\n",
              "      <th>wooddecksf</th>\n",
              "      <th>openporchsf</th>\n",
              "      <th>enclosedporch</th>\n",
              "      <th>x3ssnporch</th>\n",
              "      <th>screenporch</th>\n",
              "      <th>poolarea</th>\n",
              "      <th>miscval</th>\n",
              "      <th>mosold</th>\n",
              "      <th>yrsold</th>\n",
              "      <th>saleprice</th>\n",
              "    </tr>\n",
              "  </thead>\n",
              "  <tbody>\n",
              "    <tr>\n",
              "      <th>0</th>\n",
              "      <td>1</td>\n",
              "      <td>0</td>\n",
              "      <td>0</td>\n",
              "      <td>0</td>\n",
              "      <td>1</td>\n",
              "      <td>0</td>\n",
              "      <td>0</td>\n",
              "      <td>0</td>\n",
              "      <td>0</td>\n",
              "      <td>0</td>\n",
              "      <td>0</td>\n",
              "      <td>0</td>\n",
              "      <td>0</td>\n",
              "      <td>0</td>\n",
              "      <td>0</td>\n",
              "      <td>0</td>\n",
              "      <td>0</td>\n",
              "      <td>0</td>\n",
              "      <td>1</td>\n",
              "      <td>0</td>\n",
              "      <td>0</td>\n",
              "      <td>1</td>\n",
              "      <td>1</td>\n",
              "      <td>0</td>\n",
              "      <td>0</td>\n",
              "      <td>1</td>\n",
              "      <td>0</td>\n",
              "      <td>0</td>\n",
              "      <td>0</td>\n",
              "      <td>1</td>\n",
              "      <td>0</td>\n",
              "      <td>0</td>\n",
              "      <td>0</td>\n",
              "      <td>0</td>\n",
              "      <td>0</td>\n",
              "      <td>1</td>\n",
              "      <td>0</td>\n",
              "      <td>0</td>\n",
              "      <td>0</td>\n",
              "      <td>0</td>\n",
              "      <td>...</td>\n",
              "      <td>1</td>\n",
              "      <td>0</td>\n",
              "      <td>0</td>\n",
              "      <td>0</td>\n",
              "      <td>1</td>\n",
              "      <td>0</td>\n",
              "      <td>0.664045</td>\n",
              "      <td>0.184340</td>\n",
              "      <td>-0.340452</td>\n",
              "      <td>-1.113434</td>\n",
              "      <td>-0.566919</td>\n",
              "      <td>0.058665</td>\n",
              "      <td>0.558194</td>\n",
              "      <td>-0.661024</td>\n",
              "      <td>-0.384061</td>\n",
              "      <td>-0.671782</td>\n",
              "      <td>-0.784891</td>\n",
              "      <td>-0.10118</td>\n",
              "      <td>-1.195057</td>\n",
              "      <td>-0.818789</td>\n",
              "      <td>-0.249676</td>\n",
              "      <td>-1.027187</td>\n",
              "      <td>-0.756191</td>\n",
              "      <td>-1.045622</td>\n",
              "      <td>-0.207663</td>\n",
              "      <td>-0.924904</td>\n",
              "      <td>-0.924153</td>\n",
              "      <td>0.201553</td>\n",
              "      <td>-1.005012</td>\n",
              "      <td>1.193712</td>\n",
              "      <td>0.365853</td>\n",
              "      <td>-0.702722</td>\n",
              "      <td>-0.359539</td>\n",
              "      <td>-0.103313</td>\n",
              "      <td>1.849939</td>\n",
              "      <td>-0.063139</td>\n",
              "      <td>-0.089577</td>\n",
              "      <td>-0.078492</td>\n",
              "      <td>1.678572</td>\n",
              "      <td>-inf</td>\n",
              "    </tr>\n",
              "    <tr>\n",
              "      <th>1</th>\n",
              "      <td>1</td>\n",
              "      <td>0</td>\n",
              "      <td>0</td>\n",
              "      <td>0</td>\n",
              "      <td>1</td>\n",
              "      <td>0</td>\n",
              "      <td>0</td>\n",
              "      <td>0</td>\n",
              "      <td>0</td>\n",
              "      <td>0</td>\n",
              "      <td>0</td>\n",
              "      <td>0</td>\n",
              "      <td>0</td>\n",
              "      <td>0</td>\n",
              "      <td>0</td>\n",
              "      <td>0</td>\n",
              "      <td>0</td>\n",
              "      <td>0</td>\n",
              "      <td>0</td>\n",
              "      <td>1</td>\n",
              "      <td>0</td>\n",
              "      <td>1</td>\n",
              "      <td>1</td>\n",
              "      <td>0</td>\n",
              "      <td>0</td>\n",
              "      <td>0</td>\n",
              "      <td>1</td>\n",
              "      <td>0</td>\n",
              "      <td>0</td>\n",
              "      <td>1</td>\n",
              "      <td>0</td>\n",
              "      <td>0</td>\n",
              "      <td>0</td>\n",
              "      <td>0</td>\n",
              "      <td>0</td>\n",
              "      <td>0</td>\n",
              "      <td>0</td>\n",
              "      <td>0</td>\n",
              "      <td>0</td>\n",
              "      <td>0</td>\n",
              "      <td>...</td>\n",
              "      <td>1</td>\n",
              "      <td>0</td>\n",
              "      <td>0</td>\n",
              "      <td>0</td>\n",
              "      <td>1</td>\n",
              "      <td>0</td>\n",
              "      <td>0.693912</td>\n",
              "      <td>0.519702</td>\n",
              "      <td>-0.439490</td>\n",
              "      <td>-1.257014</td>\n",
              "      <td>0.036924</td>\n",
              "      <td>1.057335</td>\n",
              "      <td>-0.292975</td>\n",
              "      <td>-0.351645</td>\n",
              "      <td>0.629267</td>\n",
              "      <td>0.431791</td>\n",
              "      <td>-0.784891</td>\n",
              "      <td>-0.10118</td>\n",
              "      <td>-0.339412</td>\n",
              "      <td>-0.818789</td>\n",
              "      <td>-0.249676</td>\n",
              "      <td>-1.027187</td>\n",
              "      <td>1.232388</td>\n",
              "      <td>0.169898</td>\n",
              "      <td>-0.207663</td>\n",
              "      <td>-0.287709</td>\n",
              "      <td>-0.924153</td>\n",
              "      <td>0.194882</td>\n",
              "      <td>-1.005012</td>\n",
              "      <td>-0.745643</td>\n",
              "      <td>2.365433</td>\n",
              "      <td>-0.169985</td>\n",
              "      <td>-0.359539</td>\n",
              "      <td>-0.103313</td>\n",
              "      <td>-0.285886</td>\n",
              "      <td>-0.063139</td>\n",
              "      <td>21.940651</td>\n",
              "      <td>-0.078492</td>\n",
              "      <td>1.678572</td>\n",
              "      <td>-inf</td>\n",
              "    </tr>\n",
              "    <tr>\n",
              "      <th>2</th>\n",
              "      <td>1</td>\n",
              "      <td>0</td>\n",
              "      <td>0</td>\n",
              "      <td>0</td>\n",
              "      <td>0</td>\n",
              "      <td>0</td>\n",
              "      <td>0</td>\n",
              "      <td>0</td>\n",
              "      <td>0</td>\n",
              "      <td>1</td>\n",
              "      <td>0</td>\n",
              "      <td>0</td>\n",
              "      <td>0</td>\n",
              "      <td>0</td>\n",
              "      <td>0</td>\n",
              "      <td>0</td>\n",
              "      <td>0</td>\n",
              "      <td>0</td>\n",
              "      <td>0</td>\n",
              "      <td>1</td>\n",
              "      <td>0</td>\n",
              "      <td>1</td>\n",
              "      <td>1</td>\n",
              "      <td>0</td>\n",
              "      <td>0</td>\n",
              "      <td>0</td>\n",
              "      <td>1</td>\n",
              "      <td>0</td>\n",
              "      <td>0</td>\n",
              "      <td>1</td>\n",
              "      <td>0</td>\n",
              "      <td>0</td>\n",
              "      <td>0</td>\n",
              "      <td>0</td>\n",
              "      <td>0</td>\n",
              "      <td>1</td>\n",
              "      <td>0</td>\n",
              "      <td>0</td>\n",
              "      <td>0</td>\n",
              "      <td>0</td>\n",
              "      <td>...</td>\n",
              "      <td>1</td>\n",
              "      <td>0</td>\n",
              "      <td>0</td>\n",
              "      <td>0</td>\n",
              "      <td>1</td>\n",
              "      <td>0</td>\n",
              "      <td>0.484842</td>\n",
              "      <td>0.464294</td>\n",
              "      <td>0.848003</td>\n",
              "      <td>0.657380</td>\n",
              "      <td>-0.566919</td>\n",
              "      <td>0.767611</td>\n",
              "      <td>-0.292975</td>\n",
              "      <td>-0.963578</td>\n",
              "      <td>-0.279781</td>\n",
              "      <td>-0.590224</td>\n",
              "      <td>0.850280</td>\n",
              "      <td>-0.10118</td>\n",
              "      <td>0.253413</td>\n",
              "      <td>-0.818789</td>\n",
              "      <td>-0.249676</td>\n",
              "      <td>0.781232</td>\n",
              "      <td>1.232388</td>\n",
              "      <td>0.169898</td>\n",
              "      <td>-0.207663</td>\n",
              "      <td>-0.287709</td>\n",
              "      <td>0.623525</td>\n",
              "      <td>0.281609</td>\n",
              "      <td>0.306987</td>\n",
              "      <td>0.043090</td>\n",
              "      <td>0.934904</td>\n",
              "      <td>-0.199581</td>\n",
              "      <td>-0.359539</td>\n",
              "      <td>-0.103313</td>\n",
              "      <td>-0.285886</td>\n",
              "      <td>-0.063139</td>\n",
              "      <td>-0.089577</td>\n",
              "      <td>-1.183561</td>\n",
              "      <td>1.678572</td>\n",
              "      <td>-inf</td>\n",
              "    </tr>\n",
              "    <tr>\n",
              "      <th>3</th>\n",
              "      <td>1</td>\n",
              "      <td>0</td>\n",
              "      <td>0</td>\n",
              "      <td>0</td>\n",
              "      <td>0</td>\n",
              "      <td>0</td>\n",
              "      <td>0</td>\n",
              "      <td>0</td>\n",
              "      <td>0</td>\n",
              "      <td>1</td>\n",
              "      <td>0</td>\n",
              "      <td>0</td>\n",
              "      <td>0</td>\n",
              "      <td>0</td>\n",
              "      <td>0</td>\n",
              "      <td>0</td>\n",
              "      <td>0</td>\n",
              "      <td>0</td>\n",
              "      <td>0</td>\n",
              "      <td>1</td>\n",
              "      <td>0</td>\n",
              "      <td>1</td>\n",
              "      <td>1</td>\n",
              "      <td>0</td>\n",
              "      <td>0</td>\n",
              "      <td>0</td>\n",
              "      <td>1</td>\n",
              "      <td>0</td>\n",
              "      <td>0</td>\n",
              "      <td>1</td>\n",
              "      <td>0</td>\n",
              "      <td>0</td>\n",
              "      <td>0</td>\n",
              "      <td>0</td>\n",
              "      <td>0</td>\n",
              "      <td>1</td>\n",
              "      <td>0</td>\n",
              "      <td>0</td>\n",
              "      <td>0</td>\n",
              "      <td>0</td>\n",
              "      <td>...</td>\n",
              "      <td>1</td>\n",
              "      <td>0</td>\n",
              "      <td>0</td>\n",
              "      <td>0</td>\n",
              "      <td>1</td>\n",
              "      <td>0</td>\n",
              "      <td>0.604310</td>\n",
              "      <td>-0.024105</td>\n",
              "      <td>0.881015</td>\n",
              "      <td>0.657380</td>\n",
              "      <td>-0.455096</td>\n",
              "      <td>0.352778</td>\n",
              "      <td>-0.292975</td>\n",
              "      <td>-0.538182</td>\n",
              "      <td>-0.284315</td>\n",
              "      <td>-0.595322</td>\n",
              "      <td>0.796630</td>\n",
              "      <td>-0.10118</td>\n",
              "      <td>0.204011</td>\n",
              "      <td>-0.818789</td>\n",
              "      <td>-0.249676</td>\n",
              "      <td>0.781232</td>\n",
              "      <td>1.232388</td>\n",
              "      <td>0.169898</td>\n",
              "      <td>-0.207663</td>\n",
              "      <td>0.349486</td>\n",
              "      <td>0.623525</td>\n",
              "      <td>0.283833</td>\n",
              "      <td>0.306987</td>\n",
              "      <td>-0.012585</td>\n",
              "      <td>2.104618</td>\n",
              "      <td>-0.169985</td>\n",
              "      <td>-0.359539</td>\n",
              "      <td>-0.103313</td>\n",
              "      <td>-0.285886</td>\n",
              "      <td>-0.063139</td>\n",
              "      <td>-0.089577</td>\n",
              "      <td>-0.078492</td>\n",
              "      <td>1.678572</td>\n",
              "      <td>-inf</td>\n",
              "    </tr>\n",
              "    <tr>\n",
              "      <th>4</th>\n",
              "      <td>1</td>\n",
              "      <td>0</td>\n",
              "      <td>0</td>\n",
              "      <td>0</td>\n",
              "      <td>0</td>\n",
              "      <td>1</td>\n",
              "      <td>0</td>\n",
              "      <td>0</td>\n",
              "      <td>0</td>\n",
              "      <td>0</td>\n",
              "      <td>0</td>\n",
              "      <td>0</td>\n",
              "      <td>0</td>\n",
              "      <td>0</td>\n",
              "      <td>0</td>\n",
              "      <td>0</td>\n",
              "      <td>0</td>\n",
              "      <td>0</td>\n",
              "      <td>0</td>\n",
              "      <td>1</td>\n",
              "      <td>0</td>\n",
              "      <td>1</td>\n",
              "      <td>1</td>\n",
              "      <td>0</td>\n",
              "      <td>0</td>\n",
              "      <td>0</td>\n",
              "      <td>1</td>\n",
              "      <td>0</td>\n",
              "      <td>1</td>\n",
              "      <td>0</td>\n",
              "      <td>0</td>\n",
              "      <td>0</td>\n",
              "      <td>0</td>\n",
              "      <td>0</td>\n",
              "      <td>0</td>\n",
              "      <td>1</td>\n",
              "      <td>0</td>\n",
              "      <td>0</td>\n",
              "      <td>0</td>\n",
              "      <td>0</td>\n",
              "      <td>...</td>\n",
              "      <td>1</td>\n",
              "      <td>0</td>\n",
              "      <td>0</td>\n",
              "      <td>0</td>\n",
              "      <td>1</td>\n",
              "      <td>0</td>\n",
              "      <td>-0.441039</td>\n",
              "      <td>-0.654636</td>\n",
              "      <td>0.682939</td>\n",
              "      <td>0.370221</td>\n",
              "      <td>-0.566919</td>\n",
              "      <td>-0.391285</td>\n",
              "      <td>-0.292975</td>\n",
              "      <td>1.038284</td>\n",
              "      <td>0.518187</td>\n",
              "      <td>0.306906</td>\n",
              "      <td>-0.784891</td>\n",
              "      <td>-0.10118</td>\n",
              "      <td>-0.436240</td>\n",
              "      <td>-0.818789</td>\n",
              "      <td>-0.249676</td>\n",
              "      <td>0.781232</td>\n",
              "      <td>-0.756191</td>\n",
              "      <td>-1.045622</td>\n",
              "      <td>-0.207663</td>\n",
              "      <td>-0.924904</td>\n",
              "      <td>-0.924153</td>\n",
              "      <td>0.270490</td>\n",
              "      <td>0.306987</td>\n",
              "      <td>0.154440</td>\n",
              "      <td>-0.740634</td>\n",
              "      <td>0.510735</td>\n",
              "      <td>-0.359539</td>\n",
              "      <td>-0.103313</td>\n",
              "      <td>2.277104</td>\n",
              "      <td>-0.063139</td>\n",
              "      <td>-0.089577</td>\n",
              "      <td>-1.920274</td>\n",
              "      <td>1.678572</td>\n",
              "      <td>-inf</td>\n",
              "    </tr>\n",
              "  </tbody>\n",
              "</table>\n",
              "<p>5 rows × 299 columns</p>\n",
              "</div>"
            ],
            "text/plain": [
              "   (Intercept)  mssubclass1-1/2 STORY FINISHED ALL AGES  ...    yrsold  saleprice\n",
              "0            1                                        0  ...  1.678572       -inf\n",
              "1            1                                        0  ...  1.678572       -inf\n",
              "2            1                                        0  ...  1.678572       -inf\n",
              "3            1                                        0  ...  1.678572       -inf\n",
              "4            1                                        0  ...  1.678572       -inf\n",
              "\n",
              "[5 rows x 299 columns]"
            ]
          },
          "metadata": {
            "tags": []
          },
          "execution_count": 110
        }
      ]
    },
    {
      "cell_type": "markdown",
      "metadata": {
        "id": "uiK6T7PG4WGZ",
        "colab_type": "text"
      },
      "source": [
        "**Prepare Data**"
      ]
    },
    {
      "cell_type": "code",
      "metadata": {
        "id": "Da8L6QHF3_UJ",
        "colab_type": "code",
        "outputId": "f2a35ff8-3edd-4974-fc31-cd3c11e810eb",
        "colab": {
          "base_uri": "https://localhost:8080/",
          "height": 419
        }
      },
      "source": [
        "# train statistics\n",
        "\n",
        "train_stats = train_df.describe()\n",
        "train_stats = train_stats.transpose()\n",
        "train_stats"
      ],
      "execution_count": 0,
      "outputs": [
        {
          "output_type": "execute_result",
          "data": {
            "text/html": [
              "<div>\n",
              "<style scoped>\n",
              "    .dataframe tbody tr th:only-of-type {\n",
              "        vertical-align: middle;\n",
              "    }\n",
              "\n",
              "    .dataframe tbody tr th {\n",
              "        vertical-align: top;\n",
              "    }\n",
              "\n",
              "    .dataframe thead th {\n",
              "        text-align: right;\n",
              "    }\n",
              "</style>\n",
              "<table border=\"1\" class=\"dataframe\">\n",
              "  <thead>\n",
              "    <tr style=\"text-align: right;\">\n",
              "      <th></th>\n",
              "      <th>count</th>\n",
              "      <th>mean</th>\n",
              "      <th>std</th>\n",
              "      <th>min</th>\n",
              "      <th>25%</th>\n",
              "      <th>50%</th>\n",
              "      <th>75%</th>\n",
              "      <th>max</th>\n",
              "    </tr>\n",
              "  </thead>\n",
              "  <tbody>\n",
              "    <tr>\n",
              "      <th>(Intercept)</th>\n",
              "      <td>1460.0</td>\n",
              "      <td>1.000000</td>\n",
              "      <td>0.000000</td>\n",
              "      <td>1.000000</td>\n",
              "      <td>1.000000</td>\n",
              "      <td>1.000000</td>\n",
              "      <td>1.000000</td>\n",
              "      <td>1.000000</td>\n",
              "    </tr>\n",
              "    <tr>\n",
              "      <th>mssubclass1-1/2 STORY FINISHED ALL AGES</th>\n",
              "      <td>1460.0</td>\n",
              "      <td>0.098630</td>\n",
              "      <td>0.298267</td>\n",
              "      <td>0.000000</td>\n",
              "      <td>0.000000</td>\n",
              "      <td>0.000000</td>\n",
              "      <td>0.000000</td>\n",
              "      <td>1.000000</td>\n",
              "    </tr>\n",
              "    <tr>\n",
              "      <th>mssubclass1-1/2 STORY PUD - ALL AGES</th>\n",
              "      <td>1460.0</td>\n",
              "      <td>0.000000</td>\n",
              "      <td>0.000000</td>\n",
              "      <td>0.000000</td>\n",
              "      <td>0.000000</td>\n",
              "      <td>0.000000</td>\n",
              "      <td>0.000000</td>\n",
              "      <td>0.000000</td>\n",
              "    </tr>\n",
              "    <tr>\n",
              "      <th>mssubclass1-STORY 1945 &amp; OLDER</th>\n",
              "      <td>1460.0</td>\n",
              "      <td>0.047260</td>\n",
              "      <td>0.212268</td>\n",
              "      <td>0.000000</td>\n",
              "      <td>0.000000</td>\n",
              "      <td>0.000000</td>\n",
              "      <td>0.000000</td>\n",
              "      <td>1.000000</td>\n",
              "    </tr>\n",
              "    <tr>\n",
              "      <th>mssubclass1-STORY 1946 &amp; NEWER ALL STYLES</th>\n",
              "      <td>1460.0</td>\n",
              "      <td>0.367123</td>\n",
              "      <td>0.482186</td>\n",
              "      <td>0.000000</td>\n",
              "      <td>0.000000</td>\n",
              "      <td>0.000000</td>\n",
              "      <td>1.000000</td>\n",
              "      <td>1.000000</td>\n",
              "    </tr>\n",
              "    <tr>\n",
              "      <th>...</th>\n",
              "      <td>...</td>\n",
              "      <td>...</td>\n",
              "      <td>...</td>\n",
              "      <td>...</td>\n",
              "      <td>...</td>\n",
              "      <td>...</td>\n",
              "      <td>...</td>\n",
              "      <td>...</td>\n",
              "    </tr>\n",
              "    <tr>\n",
              "      <th>poolarea</th>\n",
              "      <td>1460.0</td>\n",
              "      <td>0.014219</td>\n",
              "      <td>1.126552</td>\n",
              "      <td>-0.063139</td>\n",
              "      <td>-0.063139</td>\n",
              "      <td>-0.063139</td>\n",
              "      <td>-0.063139</td>\n",
              "      <td>20.630028</td>\n",
              "    </tr>\n",
              "    <tr>\n",
              "      <th>miscval</th>\n",
              "      <td>1460.0</td>\n",
              "      <td>-0.012931</td>\n",
              "      <td>0.874376</td>\n",
              "      <td>-0.089577</td>\n",
              "      <td>-0.089577</td>\n",
              "      <td>-0.089577</td>\n",
              "      <td>-0.089577</td>\n",
              "      <td>27.227906</td>\n",
              "    </tr>\n",
              "    <tr>\n",
              "      <th>mosold</th>\n",
              "      <td>1460.0</td>\n",
              "      <td>0.040089</td>\n",
              "      <td>0.995898</td>\n",
              "      <td>-1.920274</td>\n",
              "      <td>-0.446848</td>\n",
              "      <td>-0.078492</td>\n",
              "      <td>0.658221</td>\n",
              "      <td>2.131647</td>\n",
              "    </tr>\n",
              "    <tr>\n",
              "      <th>yrsold</th>\n",
              "      <td>1460.0</td>\n",
              "      <td>0.017503</td>\n",
              "      <td>1.009986</td>\n",
              "      <td>-1.363335</td>\n",
              "      <td>-0.602858</td>\n",
              "      <td>0.157619</td>\n",
              "      <td>0.918095</td>\n",
              "      <td>1.678572</td>\n",
              "    </tr>\n",
              "    <tr>\n",
              "      <th>saleprice</th>\n",
              "      <td>1460.0</td>\n",
              "      <td>12.024051</td>\n",
              "      <td>0.399452</td>\n",
              "      <td>10.460242</td>\n",
              "      <td>11.775097</td>\n",
              "      <td>12.001505</td>\n",
              "      <td>12.273731</td>\n",
              "      <td>13.534473</td>\n",
              "    </tr>\n",
              "  </tbody>\n",
              "</table>\n",
              "<p>299 rows × 8 columns</p>\n",
              "</div>"
            ],
            "text/plain": [
              "                                            count  ...        max\n",
              "(Intercept)                                1460.0  ...   1.000000\n",
              "mssubclass1-1/2 STORY FINISHED ALL AGES    1460.0  ...   1.000000\n",
              "mssubclass1-1/2 STORY PUD - ALL AGES       1460.0  ...   0.000000\n",
              "mssubclass1-STORY 1945 & OLDER             1460.0  ...   1.000000\n",
              "mssubclass1-STORY 1946 & NEWER ALL STYLES  1460.0  ...   1.000000\n",
              "...                                           ...  ...        ...\n",
              "poolarea                                   1460.0  ...  20.630028\n",
              "miscval                                    1460.0  ...  27.227906\n",
              "mosold                                     1460.0  ...   2.131647\n",
              "yrsold                                     1460.0  ...   1.678572\n",
              "saleprice                                  1460.0  ...  13.534473\n",
              "\n",
              "[299 rows x 8 columns]"
            ]
          },
          "metadata": {
            "tags": []
          },
          "execution_count": 78
        }
      ]
    },
    {
      "cell_type": "code",
      "metadata": {
        "id": "cMQc2SZn42DJ",
        "colab_type": "code",
        "outputId": "6bcc5e30-806f-4779-f494-1e3131e4612d",
        "colab": {
          "base_uri": "https://localhost:8080/",
          "height": 221
        }
      },
      "source": [
        "# split features\n",
        "\n",
        "y_train = train_df.pop(\"saleprice\")"
      ],
      "execution_count": 0,
      "outputs": [
        {
          "output_type": "execute_result",
          "data": {
            "text/plain": [
              "Index(['(Intercept)', 'mssubclass1-1/2 STORY FINISHED ALL AGES',\n",
              "       'mssubclass1-1/2 STORY PUD - ALL AGES',\n",
              "       'mssubclass1-STORY 1945 & OLDER',\n",
              "       'mssubclass1-STORY 1946 & NEWER ALL STYLES',\n",
              "       'mssubclass1-STORY PUD (Planned Unit Development) - 1946 & NEWER',\n",
              "       'mssubclass1-STORY W/FINISHED ATTIC ALL AGES',\n",
              "       'mssubclass2-1/2 STORY ALL AGES', 'mssubclass2-STORY 1945 & OLDER',\n",
              "       'mssubclass2-STORY 1946 & NEWER',\n",
              "       ...\n",
              "       'wooddecksf', 'openporchsf', 'enclosedporch', 'x3ssnporch',\n",
              "       'screenporch', 'poolarea', 'miscval', 'mosold', 'yrsold', 'saleprice'],\n",
              "      dtype='object', length=299)"
            ]
          },
          "metadata": {
            "tags": []
          },
          "execution_count": 79
        }
      ]
    },
    {
      "cell_type": "code",
      "metadata": {
        "id": "bfSkE0I7ElMR",
        "colab_type": "code",
        "outputId": "33c80cff-df9f-4903-86fa-38262d92bc69",
        "colab": {
          "base_uri": "https://localhost:8080/",
          "height": 221
        }
      },
      "source": [
        "test_df = test_df.drop(\"saleprice\", axis=1)\n",
        "test_df.columns"
      ],
      "execution_count": 0,
      "outputs": [
        {
          "output_type": "execute_result",
          "data": {
            "text/plain": [
              "Index(['(Intercept)', 'mssubclass1-1/2 STORY FINISHED ALL AGES',\n",
              "       'mssubclass1-1/2 STORY PUD - ALL AGES',\n",
              "       'mssubclass1-STORY 1945 & OLDER',\n",
              "       'mssubclass1-STORY 1946 & NEWER ALL STYLES',\n",
              "       'mssubclass1-STORY PUD (Planned Unit Development) - 1946 & NEWER',\n",
              "       'mssubclass1-STORY W/FINISHED ATTIC ALL AGES',\n",
              "       'mssubclass2-1/2 STORY ALL AGES', 'mssubclass2-STORY 1945 & OLDER',\n",
              "       'mssubclass2-STORY 1946 & NEWER',\n",
              "       ...\n",
              "       'garagearea', 'wooddecksf', 'openporchsf', 'enclosedporch',\n",
              "       'x3ssnporch', 'screenporch', 'poolarea', 'miscval', 'mosold', 'yrsold'],\n",
              "      dtype='object', length=298)"
            ]
          },
          "metadata": {
            "tags": []
          },
          "execution_count": 83
        }
      ]
    },
    {
      "cell_type": "code",
      "metadata": {
        "id": "-uBQbZ7BymhQ",
        "colab_type": "code",
        "outputId": "eb7f6a02-faed-4e93-9be2-fe4eef9f817f",
        "colab": {
          "base_uri": "https://localhost:8080/",
          "height": 34
        }
      },
      "source": [
        "# normalize\n",
        "\n",
        "X_train = train_df\n",
        "X_test = test_df\n",
        "print(train_df.shape, X_train.shape, X_test.shape)"
      ],
      "execution_count": 0,
      "outputs": [
        {
          "output_type": "stream",
          "text": [
            "(1460, 298) (1460, 298) (1459, 298)\n"
          ],
          "name": "stdout"
        }
      ]
    },
    {
      "cell_type": "markdown",
      "metadata": {
        "id": "AheAk2EN5TkP",
        "colab_type": "text"
      },
      "source": [
        "**Model**"
      ]
    },
    {
      "cell_type": "code",
      "metadata": {
        "id": "pNWWR_oo3tBE",
        "colab_type": "code",
        "colab": {}
      },
      "source": [
        "# Build Model\n",
        "\n",
        "def build_model():\n",
        "  model = keras.Sequential([\n",
        "    layers.Dense(8, activation='relu', input_shape=[len(X_train.keys())]),\n",
        "    layers.Dense(8, activation='relu'),\n",
        "    layers.Dense(1)\n",
        "  ])\n",
        "\n",
        "  optimizer = tf.keras.optimizers.RMSprop(0.001)\n",
        "\n",
        "  model.compile(loss='mse',\n",
        "                optimizer=optimizer,\n",
        "                metrics=['mae', 'mse'])\n",
        "  return model"
      ],
      "execution_count": 0,
      "outputs": []
    },
    {
      "cell_type": "code",
      "metadata": {
        "id": "auWzLXCH5vVo",
        "colab_type": "code",
        "colab": {}
      },
      "source": [
        "model = build_model()"
      ],
      "execution_count": 0,
      "outputs": []
    },
    {
      "cell_type": "code",
      "metadata": {
        "id": "pEwv9U9h59Da",
        "colab_type": "code",
        "outputId": "89617308-b83e-42bf-b9df-63d96992f6ca",
        "colab": {
          "base_uri": "https://localhost:8080/",
          "height": 255
        }
      },
      "source": [
        "model.summary()"
      ],
      "execution_count": 0,
      "outputs": [
        {
          "output_type": "stream",
          "text": [
            "Model: \"sequential_14\"\n",
            "_________________________________________________________________\n",
            "Layer (type)                 Output Shape              Param #   \n",
            "=================================================================\n",
            "dense_42 (Dense)             (None, 8)                 2392      \n",
            "_________________________________________________________________\n",
            "dense_43 (Dense)             (None, 8)                 72        \n",
            "_________________________________________________________________\n",
            "dense_44 (Dense)             (None, 1)                 9         \n",
            "=================================================================\n",
            "Total params: 2,473\n",
            "Trainable params: 2,473\n",
            "Non-trainable params: 0\n",
            "_________________________________________________________________\n"
          ],
          "name": "stdout"
        }
      ]
    },
    {
      "cell_type": "code",
      "metadata": {
        "id": "p87-O0jy6ECH",
        "colab_type": "code",
        "outputId": "a8213a70-fece-4024-adf1-35f109bf8473",
        "colab": {
          "base_uri": "https://localhost:8080/",
          "height": 187
        }
      },
      "source": [
        "example_batch = X_train[:10]\n",
        "example_result = model.predict(example_batch)\n",
        "example_result"
      ],
      "execution_count": 0,
      "outputs": [
        {
          "output_type": "execute_result",
          "data": {
            "text/plain": [
              "array([[ 0.2627741 ],\n",
              "       [ 0.13048682],\n",
              "       [ 0.30983776],\n",
              "       [-0.02356902],\n",
              "       [ 0.2485044 ],\n",
              "       [ 0.25020424],\n",
              "       [ 0.15899707],\n",
              "       [ 0.5603708 ],\n",
              "       [ 0.1302833 ],\n",
              "       [ 0.00979377]], dtype=float32)"
            ]
          },
          "metadata": {
            "tags": []
          },
          "execution_count": 157
        }
      ]
    },
    {
      "cell_type": "code",
      "metadata": {
        "id": "xH03v8CD6hA2",
        "colab_type": "code",
        "outputId": "49f1718a-882a-4062-8c1b-b46f6c75bb16",
        "colab": {
          "base_uri": "https://localhost:8080/",
          "height": 204
        }
      },
      "source": [
        "EPOCHS = 500\n",
        "\n",
        "history = model.fit(\n",
        "  X_train, y_train,\n",
        "  epochs=EPOCHS, validation_split = 0.2, verbose=0,\n",
        "  callbacks=[tfdocs.modeling.EpochDots()])"
      ],
      "execution_count": 0,
      "outputs": [
        {
          "output_type": "stream",
          "text": [
            "\n",
            "Epoch: 0, loss:112.2443,  mae:10.5794,  mse:112.6068,  val_loss:82.9832,  val_mae:9.1369,  val_mse:83.6582,  \n",
            "....................................................................................................\n",
            "Epoch: 100, loss:0.0279,  mae:0.1236,  mse:0.0281,  val_loss:0.0731,  val_mae:0.1708,  val_mse:0.0701,  \n",
            "....................................................................................................\n",
            "Epoch: 200, loss:0.0232,  mae:0.1149,  mse:0.0234,  val_loss:0.0670,  val_mae:0.1436,  val_mse:0.0707,  \n",
            "....................................................................................................\n",
            "Epoch: 300, loss:0.0181,  mae:0.1027,  mse:0.0182,  val_loss:0.0675,  val_mae:0.1392,  val_mse:0.0696,  \n",
            "....................................................................................................\n",
            "Epoch: 400, loss:0.0184,  mae:0.1052,  mse:0.0184,  val_loss:0.0747,  val_mae:0.1609,  val_mse:0.0795,  \n",
            "...................................................................................................."
          ],
          "name": "stdout"
        }
      ]
    },
    {
      "cell_type": "code",
      "metadata": {
        "id": "LmNmMGuy8w43",
        "colab_type": "code",
        "outputId": "391f6a18-6e22-44e8-a32f-220169f42116",
        "colab": {
          "base_uri": "https://localhost:8080/",
          "height": 204
        }
      },
      "source": [
        "hist = pd.DataFrame(history.history)\n",
        "hist['epoch'] = history.epoch\n",
        "hist.tail()"
      ],
      "execution_count": 0,
      "outputs": [
        {
          "output_type": "execute_result",
          "data": {
            "text/html": [
              "<div>\n",
              "<style scoped>\n",
              "    .dataframe tbody tr th:only-of-type {\n",
              "        vertical-align: middle;\n",
              "    }\n",
              "\n",
              "    .dataframe tbody tr th {\n",
              "        vertical-align: top;\n",
              "    }\n",
              "\n",
              "    .dataframe thead th {\n",
              "        text-align: right;\n",
              "    }\n",
              "</style>\n",
              "<table border=\"1\" class=\"dataframe\">\n",
              "  <thead>\n",
              "    <tr style=\"text-align: right;\">\n",
              "      <th></th>\n",
              "      <th>loss</th>\n",
              "      <th>mae</th>\n",
              "      <th>mse</th>\n",
              "      <th>val_loss</th>\n",
              "      <th>val_mae</th>\n",
              "      <th>val_mse</th>\n",
              "      <th>epoch</th>\n",
              "    </tr>\n",
              "  </thead>\n",
              "  <tbody>\n",
              "    <tr>\n",
              "      <th>495</th>\n",
              "      <td>0.016304</td>\n",
              "      <td>0.099077</td>\n",
              "      <td>0.016343</td>\n",
              "      <td>0.070274</td>\n",
              "      <td>0.150520</td>\n",
              "      <td>0.071734</td>\n",
              "      <td>495</td>\n",
              "    </tr>\n",
              "    <tr>\n",
              "      <th>496</th>\n",
              "      <td>0.016758</td>\n",
              "      <td>0.099930</td>\n",
              "      <td>0.016889</td>\n",
              "      <td>0.067407</td>\n",
              "      <td>0.145422</td>\n",
              "      <td>0.072555</td>\n",
              "      <td>496</td>\n",
              "    </tr>\n",
              "    <tr>\n",
              "      <th>497</th>\n",
              "      <td>0.015259</td>\n",
              "      <td>0.095304</td>\n",
              "      <td>0.015373</td>\n",
              "      <td>0.069947</td>\n",
              "      <td>0.143318</td>\n",
              "      <td>0.075181</td>\n",
              "      <td>497</td>\n",
              "    </tr>\n",
              "    <tr>\n",
              "      <th>498</th>\n",
              "      <td>0.017400</td>\n",
              "      <td>0.105438</td>\n",
              "      <td>0.017570</td>\n",
              "      <td>0.062305</td>\n",
              "      <td>0.138067</td>\n",
              "      <td>0.064994</td>\n",
              "      <td>498</td>\n",
              "    </tr>\n",
              "    <tr>\n",
              "      <th>499</th>\n",
              "      <td>0.016090</td>\n",
              "      <td>0.097849</td>\n",
              "      <td>0.016091</td>\n",
              "      <td>0.067939</td>\n",
              "      <td>0.142198</td>\n",
              "      <td>0.071220</td>\n",
              "      <td>499</td>\n",
              "    </tr>\n",
              "  </tbody>\n",
              "</table>\n",
              "</div>"
            ],
            "text/plain": [
              "         loss       mae       mse  val_loss   val_mae   val_mse  epoch\n",
              "495  0.016304  0.099077  0.016343  0.070274  0.150520  0.071734    495\n",
              "496  0.016758  0.099930  0.016889  0.067407  0.145422  0.072555    496\n",
              "497  0.015259  0.095304  0.015373  0.069947  0.143318  0.075181    497\n",
              "498  0.017400  0.105438  0.017570  0.062305  0.138067  0.064994    498\n",
              "499  0.016090  0.097849  0.016091  0.067939  0.142198  0.071220    499"
            ]
          },
          "metadata": {
            "tags": []
          },
          "execution_count": 159
        }
      ]
    },
    {
      "cell_type": "code",
      "metadata": {
        "id": "n31l7Bx19bSP",
        "colab_type": "code",
        "colab": {}
      },
      "source": [
        "plotter = tfdocs.plots.HistoryPlotter(smoothing_std=2)"
      ],
      "execution_count": 0,
      "outputs": []
    },
    {
      "cell_type": "code",
      "metadata": {
        "id": "sGoVULvU9dOJ",
        "colab_type": "code",
        "outputId": "f0f3f7a3-357c-4c8e-cf30-01a3b0bb4b03",
        "colab": {
          "base_uri": "https://localhost:8080/",
          "height": 300
        }
      },
      "source": [
        "plotter.plot({'Basic': history}, metric = \"mae\")\n",
        "plt.ylim([0, 1])\n",
        "plt.ylabel('MAE [saleprice]')"
      ],
      "execution_count": 0,
      "outputs": [
        {
          "output_type": "execute_result",
          "data": {
            "text/plain": [
              "Text(0, 0.5, 'MAE [saleprice]')"
            ]
          },
          "metadata": {
            "tags": []
          },
          "execution_count": 161
        },
        {
          "output_type": "display_data",
          "data": {
            "image/png": "[encoded data removed]",
            "text/plain": [
              "<Figure size 432x288 with 1 Axes>"
            ]
          },
          "metadata": {
            "tags": [],
            "needs_background": "light"
          }
        }
      ]
    },
    {
      "cell_type": "code",
      "metadata": {
        "id": "zf6rRqPf9jhy",
        "colab_type": "code",
        "outputId": "38b8e222-24f3-4c87-a6e2-9340ffd01bde",
        "colab": {
          "base_uri": "https://localhost:8080/",
          "height": 300
        }
      },
      "source": [
        "plotter.plot({'Basic': history}, metric = \"mse\")\n",
        "plt.ylim([0, 1])\n",
        "plt.ylabel('MSE [saleprice^2]')"
      ],
      "execution_count": 0,
      "outputs": [
        {
          "output_type": "execute_result",
          "data": {
            "text/plain": [
              "Text(0, 0.5, 'MSE [saleprice^2]')"
            ]
          },
          "metadata": {
            "tags": []
          },
          "execution_count": 162
        },
        {
          "output_type": "display_data",
          "data": {
            "image/png": "[encoded data removed]",
            "text/plain": [
              "<Figure size 432x288 with 1 Axes>"
            ]
          },
          "metadata": {
            "tags": [],
            "needs_background": "light"
          }
        }
      ]
    },
    {
      "cell_type": "code",
      "metadata": {
        "id": "Inr9RjLS-Dcd",
        "colab_type": "code",
        "outputId": "78c3150d-ae1c-46f6-d19a-3499ab21eb6e",
        "colab": {
          "base_uri": "https://localhost:8080/",
          "height": 136
        }
      },
      "source": [
        "model = build_model()\n",
        "\n",
        "# The patience parameter is the amount of epochs to check for improvement\n",
        "early_stop = keras.callbacks.EarlyStopping(monitor='val_loss', patience=50)\n",
        "\n",
        "early_history = model.fit(X_train, y_train, \n",
        "                    epochs=EPOCHS, validation_split = 0.2, verbose=0, \n",
        "                    callbacks=[early_stop, tfdocs.modeling.EpochDots()])"
      ],
      "execution_count": 0,
      "outputs": [
        {
          "output_type": "stream",
          "text": [
            "\n",
            "Epoch: 0, loss:115.9635,  mae:10.7500,  mse:116.1800,  val_loss:96.9469,  val_mae:9.7988,  val_mse:96.3559,  \n",
            "....................................................................................................\n",
            "Epoch: 100, loss:0.0244,  mae:0.1146,  mse:0.0244,  val_loss:0.0591,  val_mae:0.1645,  val_mse:0.0621,  \n",
            "....................................................................................................\n",
            "Epoch: 200, loss:0.0193,  mae:0.1041,  mse:0.0193,  val_loss:0.0549,  val_mae:0.1555,  val_mse:0.0552,  \n",
            "......................................................................................"
          ],
          "name": "stdout"
        }
      ]
    },
    {
      "cell_type": "code",
      "metadata": {
        "id": "WSAUZAle_fmb",
        "colab_type": "code",
        "outputId": "8f08a738-a9d3-4245-ef72-527073e00b52",
        "colab": {
          "base_uri": "https://localhost:8080/",
          "height": 419
        }
      },
      "source": [
        "early_hist = pd.DataFrame(early_history.history)\n",
        "early_hist['epoch'] = early_history.epoch\n",
        "early_hist"
      ],
      "execution_count": 0,
      "outputs": [
        {
          "output_type": "execute_result",
          "data": {
            "text/html": [
              "<div>\n",
              "<style scoped>\n",
              "    .dataframe tbody tr th:only-of-type {\n",
              "        vertical-align: middle;\n",
              "    }\n",
              "\n",
              "    .dataframe tbody tr th {\n",
              "        vertical-align: top;\n",
              "    }\n",
              "\n",
              "    .dataframe thead th {\n",
              "        text-align: right;\n",
              "    }\n",
              "</style>\n",
              "<table border=\"1\" class=\"dataframe\">\n",
              "  <thead>\n",
              "    <tr style=\"text-align: right;\">\n",
              "      <th></th>\n",
              "      <th>loss</th>\n",
              "      <th>mae</th>\n",
              "      <th>mse</th>\n",
              "      <th>val_loss</th>\n",
              "      <th>val_mae</th>\n",
              "      <th>val_mse</th>\n",
              "      <th>epoch</th>\n",
              "    </tr>\n",
              "  </thead>\n",
              "  <tbody>\n",
              "    <tr>\n",
              "      <th>0</th>\n",
              "      <td>115.963470</td>\n",
              "      <td>10.750045</td>\n",
              "      <td>116.180023</td>\n",
              "      <td>96.946938</td>\n",
              "      <td>9.798836</td>\n",
              "      <td>96.355927</td>\n",
              "      <td>0</td>\n",
              "    </tr>\n",
              "    <tr>\n",
              "      <th>1</th>\n",
              "      <td>75.571381</td>\n",
              "      <td>8.659391</td>\n",
              "      <td>75.817894</td>\n",
              "      <td>54.576843</td>\n",
              "      <td>7.313852</td>\n",
              "      <td>53.958050</td>\n",
              "      <td>1</td>\n",
              "    </tr>\n",
              "    <tr>\n",
              "      <th>2</th>\n",
              "      <td>33.680042</td>\n",
              "      <td>5.708174</td>\n",
              "      <td>33.913834</td>\n",
              "      <td>16.616581</td>\n",
              "      <td>3.945248</td>\n",
              "      <td>16.233511</td>\n",
              "      <td>2</td>\n",
              "    </tr>\n",
              "    <tr>\n",
              "      <th>3</th>\n",
              "      <td>6.217303</td>\n",
              "      <td>2.204798</td>\n",
              "      <td>6.287294</td>\n",
              "      <td>1.243291</td>\n",
              "      <td>0.819513</td>\n",
              "      <td>1.198555</td>\n",
              "      <td>3</td>\n",
              "    </tr>\n",
              "    <tr>\n",
              "      <th>4</th>\n",
              "      <td>0.523319</td>\n",
              "      <td>0.563397</td>\n",
              "      <td>0.523849</td>\n",
              "      <td>0.522300</td>\n",
              "      <td>0.526453</td>\n",
              "      <td>0.525710</td>\n",
              "      <td>4</td>\n",
              "    </tr>\n",
              "    <tr>\n",
              "      <th>...</th>\n",
              "      <td>...</td>\n",
              "      <td>...</td>\n",
              "      <td>...</td>\n",
              "      <td>...</td>\n",
              "      <td>...</td>\n",
              "      <td>...</td>\n",
              "      <td>...</td>\n",
              "    </tr>\n",
              "    <tr>\n",
              "      <th>281</th>\n",
              "      <td>0.016933</td>\n",
              "      <td>0.095730</td>\n",
              "      <td>0.016996</td>\n",
              "      <td>0.046820</td>\n",
              "      <td>0.139668</td>\n",
              "      <td>0.048294</td>\n",
              "      <td>281</td>\n",
              "    </tr>\n",
              "    <tr>\n",
              "      <th>282</th>\n",
              "      <td>0.017338</td>\n",
              "      <td>0.096327</td>\n",
              "      <td>0.016916</td>\n",
              "      <td>0.063304</td>\n",
              "      <td>0.194706</td>\n",
              "      <td>0.066626</td>\n",
              "      <td>282</td>\n",
              "    </tr>\n",
              "    <tr>\n",
              "      <th>283</th>\n",
              "      <td>0.016316</td>\n",
              "      <td>0.097314</td>\n",
              "      <td>0.016408</td>\n",
              "      <td>0.059380</td>\n",
              "      <td>0.179524</td>\n",
              "      <td>0.063279</td>\n",
              "      <td>283</td>\n",
              "    </tr>\n",
              "    <tr>\n",
              "      <th>284</th>\n",
              "      <td>0.017302</td>\n",
              "      <td>0.099310</td>\n",
              "      <td>0.017279</td>\n",
              "      <td>0.053471</td>\n",
              "      <td>0.160609</td>\n",
              "      <td>0.054949</td>\n",
              "      <td>284</td>\n",
              "    </tr>\n",
              "    <tr>\n",
              "      <th>285</th>\n",
              "      <td>0.015729</td>\n",
              "      <td>0.091920</td>\n",
              "      <td>0.015641</td>\n",
              "      <td>0.056979</td>\n",
              "      <td>0.167943</td>\n",
              "      <td>0.056670</td>\n",
              "      <td>285</td>\n",
              "    </tr>\n",
              "  </tbody>\n",
              "</table>\n",
              "<p>286 rows × 7 columns</p>\n",
              "</div>"
            ],
            "text/plain": [
              "           loss        mae         mse   val_loss   val_mae    val_mse  epoch\n",
              "0    115.963470  10.750045  116.180023  96.946938  9.798836  96.355927      0\n",
              "1     75.571381   8.659391   75.817894  54.576843  7.313852  53.958050      1\n",
              "2     33.680042   5.708174   33.913834  16.616581  3.945248  16.233511      2\n",
              "3      6.217303   2.204798    6.287294   1.243291  0.819513   1.198555      3\n",
              "4      0.523319   0.563397    0.523849   0.522300  0.526453   0.525710      4\n",
              "..          ...        ...         ...        ...       ...        ...    ...\n",
              "281    0.016933   0.095730    0.016996   0.046820  0.139668   0.048294    281\n",
              "282    0.017338   0.096327    0.016916   0.063304  0.194706   0.066626    282\n",
              "283    0.016316   0.097314    0.016408   0.059380  0.179524   0.063279    283\n",
              "284    0.017302   0.099310    0.017279   0.053471  0.160609   0.054949    284\n",
              "285    0.015729   0.091920    0.015641   0.056979  0.167943   0.056670    285\n",
              "\n",
              "[286 rows x 7 columns]"
            ]
          },
          "metadata": {
            "tags": []
          },
          "execution_count": 167
        }
      ]
    },
    {
      "cell_type": "code",
      "metadata": {
        "id": "UI74JLDn-jzF",
        "colab_type": "code",
        "outputId": "f9710c09-8aae-4e1e-fbbf-7e4bfa469c3b",
        "colab": {
          "base_uri": "https://localhost:8080/",
          "height": 300
        }
      },
      "source": [
        "plotter.plot({'Early Stopping': early_history}, metric = \"mae\")\n",
        "plt.ylim([0, 1])\n",
        "plt.ylabel('MAE [saleprice]')"
      ],
      "execution_count": 0,
      "outputs": [
        {
          "output_type": "execute_result",
          "data": {
            "text/plain": [
              "Text(0, 0.5, 'MAE [saleprice]')"
            ]
          },
          "metadata": {
            "tags": []
          },
          "execution_count": 168
        },
        {
          "output_type": "display_data",
          "data": {
            "image/png": "[encoded data removed]",
            "text/plain": [
              "<Figure size 432x288 with 1 Axes>"
            ]
          },
          "metadata": {
            "tags": [],
            "needs_background": "light"
          }
        }
      ]
    },
    {
      "cell_type": "code",
      "metadata": {
        "id": "60rm_d27WjlW",
        "colab_type": "code",
        "outputId": "4817a709-54b8-4a9d-a4b8-7b23860dabf6",
        "colab": {
          "base_uri": "https://localhost:8080/",
          "height": 300
        }
      },
      "source": [
        "plotter.plot({'Early Stopping': early_history}, metric = \"mse\")\n",
        "plt.ylim([0, 1])\n",
        "plt.ylabel('MSE [saleprice]')"
      ],
      "execution_count": 0,
      "outputs": [
        {
          "output_type": "execute_result",
          "data": {
            "text/plain": [
              "Text(0, 0.5, 'MSE [saleprice]')"
            ]
          },
          "metadata": {
            "tags": []
          },
          "execution_count": 169
        },
        {
          "output_type": "display_data",
          "data": {
            "image/png": "[encoded data removed]",
            "text/plain": [
              "<Figure size 432x288 with 1 Axes>"
            ]
          },
          "metadata": {
            "tags": [],
            "needs_background": "light"
          }
        }
      ]
    },
    {
      "cell_type": "code",
      "metadata": {
        "id": "utTEcyAK_TMY",
        "colab_type": "code",
        "outputId": "de56d8ab-2457-4dbd-f02f-c7440f6d32f9",
        "colab": {
          "base_uri": "https://localhost:8080/",
          "height": 204
        }
      },
      "source": [
        "prediction = model.predict(X_test).flatten()\n",
        "predicted_df = pd.DataFrame({\"Id\": test_ids_df.test_id, \"SalePrice\": np.exp(prediction)})\n",
        "predicted_df.head()"
      ],
      "execution_count": 0,
      "outputs": [
        {
          "output_type": "execute_result",
          "data": {
            "text/html": [
              "<div>\n",
              "<style scoped>\n",
              "    .dataframe tbody tr th:only-of-type {\n",
              "        vertical-align: middle;\n",
              "    }\n",
              "\n",
              "    .dataframe tbody tr th {\n",
              "        vertical-align: top;\n",
              "    }\n",
              "\n",
              "    .dataframe thead th {\n",
              "        text-align: right;\n",
              "    }\n",
              "</style>\n",
              "<table border=\"1\" class=\"dataframe\">\n",
              "  <thead>\n",
              "    <tr style=\"text-align: right;\">\n",
              "      <th></th>\n",
              "      <th>Id</th>\n",
              "      <th>SalePrice</th>\n",
              "    </tr>\n",
              "  </thead>\n",
              "  <tbody>\n",
              "    <tr>\n",
              "      <th>0</th>\n",
              "      <td>1461</td>\n",
              "      <td>156727.375000</td>\n",
              "    </tr>\n",
              "    <tr>\n",
              "      <th>1</th>\n",
              "      <td>1462</td>\n",
              "      <td>119226.437500</td>\n",
              "    </tr>\n",
              "    <tr>\n",
              "      <th>2</th>\n",
              "      <td>1463</td>\n",
              "      <td>221433.062500</td>\n",
              "    </tr>\n",
              "    <tr>\n",
              "      <th>3</th>\n",
              "      <td>1464</td>\n",
              "      <td>220473.453125</td>\n",
              "    </tr>\n",
              "    <tr>\n",
              "      <th>4</th>\n",
              "      <td>1465</td>\n",
              "      <td>224054.140625</td>\n",
              "    </tr>\n",
              "  </tbody>\n",
              "</table>\n",
              "</div>"
            ],
            "text/plain": [
              "     Id      SalePrice\n",
              "0  1461  156727.375000\n",
              "1  1462  119226.437500\n",
              "2  1463  221433.062500\n",
              "3  1464  220473.453125\n",
              "4  1465  224054.140625"
            ]
          },
          "metadata": {
            "tags": []
          },
          "execution_count": 170
        }
      ]
    },
    {
      "cell_type": "code",
      "metadata": {
        "id": "UIIAJljTBZzq",
        "colab_type": "code",
        "colab": {}
      },
      "source": [
        "predicted_df.to_csv(\"nn_submission_200426_1838.csv\", index=False)"
      ],
      "execution_count": 0,
      "outputs": []
    },
    {
      "cell_type": "code",
      "metadata": {
        "id": "xLupAuhpPHP2",
        "colab_type": "code",
        "colab": {}
      },
      "source": [
        "files.download('nn_submission_200426_1838.csv')"
      ],
      "execution_count": 0,
      "outputs": []
    },
    {
      "cell_type": "code",
      "metadata": {
        "id": "nh3N7n-RQ5WU",
        "colab_type": "code",
        "colab": {}
      },
      "source": [
        ""
      ],
      "execution_count": 0,
      "outputs": []
    }
  ]
}